{
  "nbformat": 4,
  "nbformat_minor": 0,
  "metadata": {
    "colab": {
      "name": "21MCI1073_Ayushi_gaur.ipynb",
      "provenance": [],
      "authorship_tag": "ABX9TyNeLc7UQb/nKjuH6QatGnnd",
      "include_colab_link": true
    },
    "kernelspec": {
      "name": "python3",
      "display_name": "Python 3"
    },
    "language_info": {
      "name": "python"
    }
  },
  "cells": [
    {
      "cell_type": "markdown",
      "metadata": {
        "id": "view-in-github",
        "colab_type": "text"
      },
      "source": [
        "<a href=\"https://colab.research.google.com/github/Ayushiabc/Ayushiabc/blob/main/21MCI1073_Ayushi_gaur.ipynb\" target=\"_parent\"><img src=\"https://colab.research.google.com/assets/colab-badge.svg\" alt=\"Open In Colab\"/></a>"
      ]
    },
    {
      "cell_type": "code",
      "execution_count": 12,
      "metadata": {
        "colab": {
          "base_uri": "https://localhost:8080/"
        },
        "id": "RDJeduoclFA6",
        "outputId": "c958feb3-63de-4ca5-870f-7c0b5e5f0199"
      },
      "outputs": [
        {
          "output_type": "stream",
          "name": "stdout",
          "text": [
            "Requirement already satisfied: SpeechRecognition in /usr/local/lib/python3.7/dist-packages (3.8.1)\n"
          ]
        }
      ],
      "source": [
        "pip install SpeechRecognition "
      ]
    },
    {
      "cell_type": "code",
      "source": [
        "#import library\n",
        "import speech_recognition as sr"
      ],
      "metadata": {
        "id": "HjJ_hi_AmFRn"
      },
      "execution_count": 2,
      "outputs": []
    },
    {
      "cell_type": "code",
      "source": [
        "# Initialize recognizer class (for recognizing the speech)\n",
        "r = sr.Recognizer()"
      ],
      "metadata": {
        "id": "0bKnKdtPmLWd"
      },
      "execution_count": 3,
      "outputs": []
    },
    {
      "cell_type": "code",
      "source": [
        "# Reading Audio file as source\n",
        "# listening the audio file and store in audio_text variable\n",
        "with sr.AudioFile('Ayushi.wav') as source:\n",
        "  audio_text = r.listen(source)\n",
        "#recoginize_() method will throw a request error if the API is unreachable, hence using exception handling\n",
        "  try:\n",
        "    text = r.recognize_google(audio_text)\n",
        "    print('Converting audio transcripts into text ...')\n",
        "    print(text)\n",
        "  except:\n",
        "   print('Sorry!...run again...')\n",
        " "
      ],
      "metadata": {
        "colab": {
          "base_uri": "https://localhost:8080/"
        },
        "id": "90bCddPdmoT2",
        "outputId": "1f04a7a8-8b33-4e12-a47f-74cb6a6df906"
      },
      "execution_count": 11,
      "outputs": [
        {
          "output_type": "stream",
          "name": "stdout",
          "text": [
            "Converting audio transcripts into text ...\n",
            "thank you for choosing the Olympus dictation management system the Olympus dictation management system gives you the power to manage your dictations transcriptions and document seamlessly and to improve the productivity of your daily work for example you can automatically send the dictation files or transcribed documents do your assistant ociosa via email or fdp\n"
          ]
        }
      ]
    },
    {
      "cell_type": "markdown",
      "source": [
        "thank you for choosing the Olympus dictation management system the Olympus dictation management system gives you the power to manage your dictations transcriptions and document seamlessly and to improve the productivity of your daily work for example you can automatically send the dictation files or transcribed documents do your assistant ociosa via email or fdp\n"
      ],
      "metadata": {
        "id": "2_sO1VKxuORy"
      }
    }
  ]
}